{
 "cells": [
  {
   "cell_type": "code",
   "execution_count": 100,
   "metadata": {},
   "outputs": [],
   "source": [
    "import pandas as pd\n",
    "import matplotlib.pyplot as plt\n",
    "import tensorflow as tf\n",
    "import numpy as np\n",
    "import matplotlib.pyplot as plt\n",
    "import seaborn as sns\n",
    "file_path = \"car.data\"\n",
    "\n",
    "colnames=['buying', 'maint', 'doors', 'persons', 'lug_boot', 'safety', 'car'] \n",
    "# podaci po kolonama su razdvojeni zarezom\n",
    "car_data = pd.read_csv(file_path, names=colnames, delimiter=\",\", header=None)"
   ]
  },
  {
   "cell_type": "code",
   "execution_count": 101,
   "metadata": {
    "scrolled": true
   },
   "outputs": [
    {
     "data": {
      "text/html": [
       "<div>\n",
       "<style scoped>\n",
       "    .dataframe tbody tr th:only-of-type {\n",
       "        vertical-align: middle;\n",
       "    }\n",
       "\n",
       "    .dataframe tbody tr th {\n",
       "        vertical-align: top;\n",
       "    }\n",
       "\n",
       "    .dataframe thead th {\n",
       "        text-align: right;\n",
       "    }\n",
       "</style>\n",
       "<table border=\"1\" class=\"dataframe\">\n",
       "  <thead>\n",
       "    <tr style=\"text-align: right;\">\n",
       "      <th></th>\n",
       "      <th>buying</th>\n",
       "      <th>maint</th>\n",
       "      <th>doors</th>\n",
       "      <th>persons</th>\n",
       "      <th>lug_boot</th>\n",
       "      <th>safety</th>\n",
       "      <th>car</th>\n",
       "    </tr>\n",
       "  </thead>\n",
       "  <tbody>\n",
       "    <tr>\n",
       "      <th>0</th>\n",
       "      <td>vhigh</td>\n",
       "      <td>vhigh</td>\n",
       "      <td>2</td>\n",
       "      <td>2</td>\n",
       "      <td>small</td>\n",
       "      <td>low</td>\n",
       "      <td>unacc</td>\n",
       "    </tr>\n",
       "    <tr>\n",
       "      <th>1</th>\n",
       "      <td>vhigh</td>\n",
       "      <td>vhigh</td>\n",
       "      <td>2</td>\n",
       "      <td>2</td>\n",
       "      <td>small</td>\n",
       "      <td>med</td>\n",
       "      <td>unacc</td>\n",
       "    </tr>\n",
       "    <tr>\n",
       "      <th>2</th>\n",
       "      <td>vhigh</td>\n",
       "      <td>vhigh</td>\n",
       "      <td>2</td>\n",
       "      <td>2</td>\n",
       "      <td>small</td>\n",
       "      <td>high</td>\n",
       "      <td>unacc</td>\n",
       "    </tr>\n",
       "    <tr>\n",
       "      <th>3</th>\n",
       "      <td>vhigh</td>\n",
       "      <td>vhigh</td>\n",
       "      <td>2</td>\n",
       "      <td>2</td>\n",
       "      <td>med</td>\n",
       "      <td>low</td>\n",
       "      <td>unacc</td>\n",
       "    </tr>\n",
       "    <tr>\n",
       "      <th>4</th>\n",
       "      <td>vhigh</td>\n",
       "      <td>vhigh</td>\n",
       "      <td>2</td>\n",
       "      <td>2</td>\n",
       "      <td>med</td>\n",
       "      <td>med</td>\n",
       "      <td>unacc</td>\n",
       "    </tr>\n",
       "  </tbody>\n",
       "</table>\n",
       "</div>"
      ],
      "text/plain": [
       "  buying  maint doors persons lug_boot safety    car\n",
       "0  vhigh  vhigh     2       2    small    low  unacc\n",
       "1  vhigh  vhigh     2       2    small    med  unacc\n",
       "2  vhigh  vhigh     2       2    small   high  unacc\n",
       "3  vhigh  vhigh     2       2      med    low  unacc\n",
       "4  vhigh  vhigh     2       2      med    med  unacc"
      ]
     },
     "execution_count": 101,
     "metadata": {},
     "output_type": "execute_result"
    }
   ],
   "source": [
    "car_data.head()"
   ]
  },
  {
   "cell_type": "markdown",
   "metadata": {},
   "source": [
    "Provera ucitanih podataka:\n",
    "Broj instanci: 1728, 6 ulaza i jedan izlaz"
   ]
  },
  {
   "cell_type": "code",
   "execution_count": 102,
   "metadata": {
    "scrolled": true
   },
   "outputs": [
    {
     "data": {
      "text/plain": [
       "(1728, 7)"
      ]
     },
     "execution_count": 102,
     "metadata": {},
     "output_type": "execute_result"
    }
   ],
   "source": [
    "car_data.shape"
   ]
  },
  {
   "cell_type": "markdown",
   "metadata": {},
   "source": [
    "Provera tipa podataka:"
   ]
  },
  {
   "cell_type": "code",
   "execution_count": 103,
   "metadata": {},
   "outputs": [
    {
     "name": "stdout",
     "output_type": "stream",
     "text": [
      "<class 'pandas.core.frame.DataFrame'>\n",
      "RangeIndex: 1728 entries, 0 to 1727\n",
      "Data columns (total 7 columns):\n",
      " #   Column    Non-Null Count  Dtype \n",
      "---  ------    --------------  ----- \n",
      " 0   buying    1728 non-null   object\n",
      " 1   maint     1728 non-null   object\n",
      " 2   doors     1728 non-null   object\n",
      " 3   persons   1728 non-null   object\n",
      " 4   lug_boot  1728 non-null   object\n",
      " 5   safety    1728 non-null   object\n",
      " 6   car       1728 non-null   object\n",
      "dtypes: object(7)\n",
      "memory usage: 94.6+ KB\n"
     ]
    }
   ],
   "source": [
    "car_data.info()"
   ]
  },
  {
   "cell_type": "code",
   "execution_count": 104,
   "metadata": {
    "scrolled": true
   },
   "outputs": [
    {
     "data": {
      "text/plain": [
       "buying      0\n",
       "maint       0\n",
       "doors       0\n",
       "persons     0\n",
       "lug_boot    0\n",
       "safety      0\n",
       "car         0\n",
       "dtype: int64"
      ]
     },
     "execution_count": 104,
     "metadata": {},
     "output_type": "execute_result"
    }
   ],
   "source": [
    "#Provera da li su svi input podaci navedeni\n",
    "counter_nan = car_data.isnull().sum()\n",
    "counter_nan"
   ]
  },
  {
   "cell_type": "code",
   "execution_count": 105,
   "metadata": {},
   "outputs": [
    {
     "data": {
      "text/html": [
       "<div>\n",
       "<style scoped>\n",
       "    .dataframe tbody tr th:only-of-type {\n",
       "        vertical-align: middle;\n",
       "    }\n",
       "\n",
       "    .dataframe tbody tr th {\n",
       "        vertical-align: top;\n",
       "    }\n",
       "\n",
       "    .dataframe thead th {\n",
       "        text-align: right;\n",
       "    }\n",
       "</style>\n",
       "<table border=\"1\" class=\"dataframe\">\n",
       "  <thead>\n",
       "    <tr style=\"text-align: right;\">\n",
       "      <th></th>\n",
       "      <th>buying</th>\n",
       "      <th>maint</th>\n",
       "      <th>doors</th>\n",
       "      <th>persons</th>\n",
       "      <th>lug_boot</th>\n",
       "      <th>safety</th>\n",
       "      <th>car</th>\n",
       "    </tr>\n",
       "  </thead>\n",
       "  <tbody>\n",
       "    <tr>\n",
       "      <th>1233</th>\n",
       "      <td>med</td>\n",
       "      <td>low</td>\n",
       "      <td>3</td>\n",
       "      <td>more</td>\n",
       "      <td>small</td>\n",
       "      <td>low</td>\n",
       "      <td>unacc</td>\n",
       "    </tr>\n",
       "    <tr>\n",
       "      <th>867</th>\n",
       "      <td>med</td>\n",
       "      <td>vhigh</td>\n",
       "      <td>2</td>\n",
       "      <td>2</td>\n",
       "      <td>med</td>\n",
       "      <td>low</td>\n",
       "      <td>unacc</td>\n",
       "    </tr>\n",
       "    <tr>\n",
       "      <th>1504</th>\n",
       "      <td>low</td>\n",
       "      <td>high</td>\n",
       "      <td>5more</td>\n",
       "      <td>more</td>\n",
       "      <td>small</td>\n",
       "      <td>med</td>\n",
       "      <td>acc</td>\n",
       "    </tr>\n",
       "    <tr>\n",
       "      <th>1695</th>\n",
       "      <td>low</td>\n",
       "      <td>low</td>\n",
       "      <td>4</td>\n",
       "      <td>more</td>\n",
       "      <td>med</td>\n",
       "      <td>low</td>\n",
       "      <td>unacc</td>\n",
       "    </tr>\n",
       "    <tr>\n",
       "      <th>1498</th>\n",
       "      <td>low</td>\n",
       "      <td>high</td>\n",
       "      <td>5more</td>\n",
       "      <td>4</td>\n",
       "      <td>med</td>\n",
       "      <td>med</td>\n",
       "      <td>acc</td>\n",
       "    </tr>\n",
       "  </tbody>\n",
       "</table>\n",
       "</div>"
      ],
      "text/plain": [
       "     buying  maint  doors persons lug_boot safety    car\n",
       "1233    med    low      3    more    small    low  unacc\n",
       "867     med  vhigh      2       2      med    low  unacc\n",
       "1504    low   high  5more    more    small    med    acc\n",
       "1695    low    low      4    more      med    low  unacc\n",
       "1498    low   high  5more       4      med    med    acc"
      ]
     },
     "execution_count": 105,
     "metadata": {},
     "output_type": "execute_result"
    }
   ],
   "source": [
    "car_data=car_data.sample(frac=1) #shuffle-ovanje podataka\n",
    "car_data.head()"
   ]
  },
  {
   "cell_type": "markdown",
   "metadata": {},
   "source": [
    "## Vizualizacija podataka"
   ]
  },
  {
   "cell_type": "code",
   "execution_count": 106,
   "metadata": {},
   "outputs": [
    {
     "data": {
      "text/plain": [
       "<matplotlib.legend.Legend at 0x2274615d820>"
      ]
     },
     "execution_count": 106,
     "metadata": {},
     "output_type": "execute_result"
    },
    {
     "data": {
      "image/png": "[encoded data removed]",
      "text/plain": [
       "<Figure size 432x288 with 1 Axes>"
      ]
     },
     "metadata": {},
     "output_type": "display_data"
    }
   ],
   "source": [
    "sns.set_style('whitegrid')\n",
    "sns.countplot(x='car', hue='car', data=car_data, palette='RdBu_r')\n",
    "plt.legend(loc = 'upper right')"
   ]
  },
  {
   "cell_type": "code",
   "execution_count": 107,
   "metadata": {
    "scrolled": true
   },
   "outputs": [
    {
     "data": {
      "text/plain": [
       "<matplotlib.legend.Legend at 0x227479f6370>"
      ]
     },
     "execution_count": 107,
     "metadata": {},
     "output_type": "execute_result"
    },
    {
     "data": {
      "image/png": "[encoded data removed]",
      "text/plain": [
       "<Figure size 432x288 with 1 Axes>"
      ]
     },
     "metadata": {},
     "output_type": "display_data"
    }
   ],
   "source": [
    "sns.set_style('whitegrid')\n",
    "sns.countplot(x='buying', hue='car', data=car_data, palette='RdBu_r')\n",
    "plt.legend(loc = 'upper right')"
   ]
  },
  {
   "cell_type": "code",
   "execution_count": 108,
   "metadata": {},
   "outputs": [
    {
     "data": {
      "text/plain": [
       "<matplotlib.legend.Legend at 0x22747c62580>"
      ]
     },
     "execution_count": 108,
     "metadata": {},
     "output_type": "execute_result"
    },
    {
     "data": {
      "image/png": "[encoded data removed]",
      "text/plain": [
       "<Figure size 432x288 with 1 Axes>"
      ]
     },
     "metadata": {},
     "output_type": "display_data"
    }
   ],
   "source": [
    "sns.set_style('whitegrid')\n",
    "sns.countplot(x='maint', hue='car', data=car_data, palette='RdBu_r')\n",
    "plt.legend(loc = 'upper right')"
   ]
  },
  {
   "cell_type": "code",
   "execution_count": 109,
   "metadata": {},
   "outputs": [
    {
     "data": {
      "text/plain": [
       "<matplotlib.legend.Legend at 0x22747d6d8e0>"
      ]
     },
     "execution_count": 109,
     "metadata": {},
     "output_type": "execute_result"
    },
    {
     "data": {
      "image/png": "[encoded data removed]",
      "text/plain": [
       "<Figure size 432x288 with 1 Axes>"
      ]
     },
     "metadata": {},
     "output_type": "display_data"
    }
   ],
   "source": [
    "sns.set_style('whitegrid')\n",
    "sns.countplot(x='doors', hue='car', data=car_data, palette='RdBu_r')\n",
    "plt.legend(loc = 'upper right')"
   ]
  },
  {
   "cell_type": "code",
   "execution_count": 110,
   "metadata": {},
   "outputs": [
    {
     "data": {
      "text/plain": [
       "<matplotlib.legend.Legend at 0x22747daae50>"
      ]
     },
     "execution_count": 110,
     "metadata": {},
     "output_type": "execute_result"
    },
    {
     "data": {
      "image/png": "[encoded data removed]",
      "text/plain": [
       "<Figure size 432x288 with 1 Axes>"
      ]
     },
     "metadata": {},
     "output_type": "display_data"
    }
   ],
   "source": [
    "sns.set_style('whitegrid')\n",
    "sns.countplot(x='persons', hue='car', data=car_data, palette='RdBu_r')\n",
    "plt.legend(loc = 'upper right')"
   ]
  },
  {
   "cell_type": "code",
   "execution_count": 111,
   "metadata": {},
   "outputs": [
    {
     "data": {
      "text/plain": [
       "<matplotlib.legend.Legend at 0x22747e55790>"
      ]
     },
     "execution_count": 111,
     "metadata": {},
     "output_type": "execute_result"
    },
    {
     "data": {
      "image/png": "[encoded data removed]",
      "text/plain": [
       "<Figure size 432x288 with 1 Axes>"
      ]
     },
     "metadata": {},
     "output_type": "display_data"
    }
   ],
   "source": [
    "sns.set_style('whitegrid')\n",
    "sns.countplot(x='lug_boot', hue='car', data=car_data, palette='RdBu_r')\n",
    "plt.legend(loc = 'upper right')"
   ]
  },
  {
   "cell_type": "code",
   "execution_count": 112,
   "metadata": {},
   "outputs": [
    {
     "data": {
      "text/plain": [
       "<matplotlib.legend.Legend at 0x22747eb3f10>"
      ]
     },
     "execution_count": 112,
     "metadata": {},
     "output_type": "execute_result"
    },
    {
     "data": {
      "image/png": "[encoded data removed]",
      "text/plain": [
       "<Figure size 432x288 with 1 Axes>"
      ]
     },
     "metadata": {},
     "output_type": "display_data"
    }
   ],
   "source": [
    "sns.set_style('whitegrid')\n",
    "sns.countplot(x='safety', hue='car', data=car_data, palette='RdBu_r')\n",
    "plt.legend(loc = 'upper right')"
   ]
  },
  {
   "cell_type": "markdown",
   "metadata": {},
   "source": [
    "## Model neurosnske mreže\n",
    "### Preprocesiranje podataka - One-hot encoding"
   ]
  },
  {
   "cell_type": "code",
   "execution_count": 113,
   "metadata": {},
   "outputs": [],
   "source": [
    "from sklearn.compose import make_column_transformer\n",
    "from sklearn.preprocessing import OneHotEncoder\n",
    "from sklearn.model_selection import train_test_split"
   ]
  },
  {
   "cell_type": "markdown",
   "metadata": {},
   "source": [
    "Podela podataka na skup podataka za treniranje i skup podataka za testiranje (prvobitno je uzeto 20% za testiranje, od kojih ce jedna polovina biti iskoriscena za test a druga za validaciju)"
   ]
  },
  {
   "cell_type": "code",
   "execution_count": 114,
   "metadata": {},
   "outputs": [
    {
     "data": {
      "text/plain": [
       "((1382, 7), (346, 7))"
      ]
     },
     "execution_count": 114,
     "metadata": {},
     "output_type": "execute_result"
    }
   ],
   "source": [
    "train_data, test_data_temp=train_test_split(car_data, test_size=0.2, random_state=42)\n",
    "train_data.shape, test_data_temp.shape"
   ]
  },
  {
   "cell_type": "code",
   "execution_count": 115,
   "metadata": {
    "scrolled": true
   },
   "outputs": [
    {
     "data": {
      "text/plain": [
       "((173, 7), (173, 7))"
      ]
     },
     "execution_count": 115,
     "metadata": {},
     "output_type": "execute_result"
    }
   ],
   "source": [
    "test_data, validation_data = train_test_split(test_data_temp, test_size=0.5)\n",
    "test_data.shape, validation_data.shape"
   ]
  },
  {
   "cell_type": "markdown",
   "metadata": {},
   "source": [
    "Provera da li su podaci dobro podeljeni na skup za treniranje, test i validaciju:"
   ]
  },
  {
   "cell_type": "code",
   "execution_count": 116,
   "metadata": {},
   "outputs": [
    {
     "data": {
      "text/plain": [
       "True"
      ]
     },
     "execution_count": 116,
     "metadata": {},
     "output_type": "execute_result"
    }
   ],
   "source": [
    "car_data.shape[0] == train_data.shape[0]+test_data.shape[0]+validation_data.shape[0]"
   ]
  },
  {
   "cell_type": "code",
   "execution_count": 117,
   "metadata": {
    "scrolled": true
   },
   "outputs": [
    {
     "data": {
      "text/plain": [
       "((173, 7), (173, 7), (1382, 7))"
      ]
     },
     "execution_count": 117,
     "metadata": {},
     "output_type": "execute_result"
    }
   ],
   "source": [
    "test_data.shape, validation_data.shape, train_data.shape"
   ]
  },
  {
   "cell_type": "code",
   "execution_count": 118,
   "metadata": {
    "scrolled": false
   },
   "outputs": [
    {
     "data": {
      "text/html": [
       "<div>\n",
       "<style scoped>\n",
       "    .dataframe tbody tr th:only-of-type {\n",
       "        vertical-align: middle;\n",
       "    }\n",
       "\n",
       "    .dataframe tbody tr th {\n",
       "        vertical-align: top;\n",
       "    }\n",
       "\n",
       "    .dataframe thead th {\n",
       "        text-align: right;\n",
       "    }\n",
       "</style>\n",
       "<table border=\"1\" class=\"dataframe\">\n",
       "  <thead>\n",
       "    <tr style=\"text-align: right;\">\n",
       "      <th></th>\n",
       "      <th>count</th>\n",
       "      <th>unique</th>\n",
       "      <th>top</th>\n",
       "      <th>freq</th>\n",
       "    </tr>\n",
       "  </thead>\n",
       "  <tbody>\n",
       "    <tr>\n",
       "      <th>buying</th>\n",
       "      <td>1382</td>\n",
       "      <td>4</td>\n",
       "      <td>med</td>\n",
       "      <td>357</td>\n",
       "    </tr>\n",
       "    <tr>\n",
       "      <th>maint</th>\n",
       "      <td>1382</td>\n",
       "      <td>4</td>\n",
       "      <td>vhigh</td>\n",
       "      <td>352</td>\n",
       "    </tr>\n",
       "    <tr>\n",
       "      <th>doors</th>\n",
       "      <td>1382</td>\n",
       "      <td>4</td>\n",
       "      <td>3</td>\n",
       "      <td>349</td>\n",
       "    </tr>\n",
       "    <tr>\n",
       "      <th>persons</th>\n",
       "      <td>1382</td>\n",
       "      <td>3</td>\n",
       "      <td>4</td>\n",
       "      <td>468</td>\n",
       "    </tr>\n",
       "    <tr>\n",
       "      <th>lug_boot</th>\n",
       "      <td>1382</td>\n",
       "      <td>3</td>\n",
       "      <td>small</td>\n",
       "      <td>463</td>\n",
       "    </tr>\n",
       "    <tr>\n",
       "      <th>safety</th>\n",
       "      <td>1382</td>\n",
       "      <td>3</td>\n",
       "      <td>med</td>\n",
       "      <td>465</td>\n",
       "    </tr>\n",
       "  </tbody>\n",
       "</table>\n",
       "</div>"
      ],
      "text/plain": [
       "         count unique    top freq\n",
       "buying    1382      4    med  357\n",
       "maint     1382      4  vhigh  352\n",
       "doors     1382      4      3  349\n",
       "persons   1382      3      4  468\n",
       "lug_boot  1382      3  small  463\n",
       "safety    1382      3    med  465"
      ]
     },
     "execution_count": 118,
     "metadata": {},
     "output_type": "execute_result"
    }
   ],
   "source": [
    "train_stats=train_data.describe()\n",
    "train_stats.pop(\"car\")\n",
    "train_stats = train_stats.transpose()\n",
    "train_stats"
   ]
  },
  {
   "cell_type": "markdown",
   "metadata": {},
   "source": [
    "Podela skupa podataka na ulazne i izlazne:"
   ]
  },
  {
   "cell_type": "code",
   "execution_count": 119,
   "metadata": {},
   "outputs": [],
   "source": [
    "X_train = train_data.drop(\"car\", axis=1)\n",
    "X_test = test_data.drop(\"car\", axis=1)\n",
    "y_train = train_data[\"car\"]\n",
    "y_test = test_data[\"car\"]\n",
    "X_valid = validation_data.drop(\"car\", axis=1)\n",
    "y_valid = validation_data[\"car\"]"
   ]
  },
  {
   "cell_type": "code",
   "execution_count": 120,
   "metadata": {},
   "outputs": [
    {
     "data": {
      "text/html": [
       "<div>\n",
       "<style scoped>\n",
       "    .dataframe tbody tr th:only-of-type {\n",
       "        vertical-align: middle;\n",
       "    }\n",
       "\n",
       "    .dataframe tbody tr th {\n",
       "        vertical-align: top;\n",
       "    }\n",
       "\n",
       "    .dataframe thead th {\n",
       "        text-align: right;\n",
       "    }\n",
       "</style>\n",
       "<table border=\"1\" class=\"dataframe\">\n",
       "  <thead>\n",
       "    <tr style=\"text-align: right;\">\n",
       "      <th></th>\n",
       "      <th>buying</th>\n",
       "      <th>maint</th>\n",
       "      <th>doors</th>\n",
       "      <th>persons</th>\n",
       "      <th>lug_boot</th>\n",
       "      <th>safety</th>\n",
       "    </tr>\n",
       "  </thead>\n",
       "  <tbody>\n",
       "    <tr>\n",
       "      <th>1024</th>\n",
       "      <td>med</td>\n",
       "      <td>high</td>\n",
       "      <td>3</td>\n",
       "      <td>more</td>\n",
       "      <td>big</td>\n",
       "      <td>med</td>\n",
       "    </tr>\n",
       "    <tr>\n",
       "      <th>709</th>\n",
       "      <td>high</td>\n",
       "      <td>med</td>\n",
       "      <td>4</td>\n",
       "      <td>2</td>\n",
       "      <td>big</td>\n",
       "      <td>med</td>\n",
       "    </tr>\n",
       "    <tr>\n",
       "      <th>1595</th>\n",
       "      <td>low</td>\n",
       "      <td>med</td>\n",
       "      <td>5more</td>\n",
       "      <td>2</td>\n",
       "      <td>small</td>\n",
       "      <td>high</td>\n",
       "    </tr>\n",
       "    <tr>\n",
       "      <th>1554</th>\n",
       "      <td>low</td>\n",
       "      <td>med</td>\n",
       "      <td>3</td>\n",
       "      <td>4</td>\n",
       "      <td>big</td>\n",
       "      <td>low</td>\n",
       "    </tr>\n",
       "    <tr>\n",
       "      <th>779</th>\n",
       "      <td>high</td>\n",
       "      <td>low</td>\n",
       "      <td>2</td>\n",
       "      <td>more</td>\n",
       "      <td>med</td>\n",
       "      <td>high</td>\n",
       "    </tr>\n",
       "    <tr>\n",
       "      <th>30</th>\n",
       "      <td>vhigh</td>\n",
       "      <td>vhigh</td>\n",
       "      <td>3</td>\n",
       "      <td>2</td>\n",
       "      <td>med</td>\n",
       "      <td>low</td>\n",
       "    </tr>\n",
       "    <tr>\n",
       "      <th>1267</th>\n",
       "      <td>med</td>\n",
       "      <td>low</td>\n",
       "      <td>4</td>\n",
       "      <td>more</td>\n",
       "      <td>big</td>\n",
       "      <td>med</td>\n",
       "    </tr>\n",
       "    <tr>\n",
       "      <th>768</th>\n",
       "      <td>high</td>\n",
       "      <td>low</td>\n",
       "      <td>2</td>\n",
       "      <td>4</td>\n",
       "      <td>med</td>\n",
       "      <td>low</td>\n",
       "    </tr>\n",
       "    <tr>\n",
       "      <th>1675</th>\n",
       "      <td>low</td>\n",
       "      <td>low</td>\n",
       "      <td>4</td>\n",
       "      <td>2</td>\n",
       "      <td>small</td>\n",
       "      <td>med</td>\n",
       "    </tr>\n",
       "    <tr>\n",
       "      <th>588</th>\n",
       "      <td>high</td>\n",
       "      <td>high</td>\n",
       "      <td>3</td>\n",
       "      <td>more</td>\n",
       "      <td>med</td>\n",
       "      <td>low</td>\n",
       "    </tr>\n",
       "  </tbody>\n",
       "</table>\n",
       "</div>"
      ],
      "text/plain": [
       "     buying  maint  doors persons lug_boot safety\n",
       "1024    med   high      3    more      big    med\n",
       "709    high    med      4       2      big    med\n",
       "1595    low    med  5more       2    small   high\n",
       "1554    low    med      3       4      big    low\n",
       "779    high    low      2    more      med   high\n",
       "30    vhigh  vhigh      3       2      med    low\n",
       "1267    med    low      4    more      big    med\n",
       "768    high    low      2       4      med    low\n",
       "1675    low    low      4       2    small    med\n",
       "588    high   high      3    more      med    low"
      ]
     },
     "execution_count": 120,
     "metadata": {},
     "output_type": "execute_result"
    }
   ],
   "source": [
    "X_train.head(10)"
   ]
  },
  {
   "cell_type": "markdown",
   "metadata": {},
   "source": [
    "U okviru preprocesiranja podataka koriscen je One-Hot Encoding radi predstavljanja podataka tipa object u obliku binarnih vektora.\n",
    "Funkcija get_dummies se koristi za primenu ovog nacina enkodovanja.\n",
    "\n",
    "\"pd.get_dummies when applied to a column of categories where we have one category per observation will produce a new column (variable) for each unique categorical value. It will place a one in the column corresponding to the categorical value present for that observation. This is equivalent to one hot encoding.\" "
   ]
  },
  {
   "cell_type": "code",
   "execution_count": 121,
   "metadata": {},
   "outputs": [],
   "source": [
    "y_train_encoded = pd.get_dummies(y_train)   \n",
    "y_test_encoded = pd.get_dummies(y_test)\n",
    "X_train_encoded= pd.get_dummies(X_train)    \n",
    "X_test_encoded = pd.get_dummies(X_test)\n",
    "\n",
    "X_valid_encoded = pd.get_dummies(X_valid)\n",
    "y_valid_encoded = pd.get_dummies(y_valid)"
   ]
  },
  {
   "cell_type": "code",
   "execution_count": 122,
   "metadata": {
    "scrolled": true
   },
   "outputs": [
    {
     "data": {
      "text/html": [
       "<div>\n",
       "<style scoped>\n",
       "    .dataframe tbody tr th:only-of-type {\n",
       "        vertical-align: middle;\n",
       "    }\n",
       "\n",
       "    .dataframe tbody tr th {\n",
       "        vertical-align: top;\n",
       "    }\n",
       "\n",
       "    .dataframe thead th {\n",
       "        text-align: right;\n",
       "    }\n",
       "</style>\n",
       "<table border=\"1\" class=\"dataframe\">\n",
       "  <thead>\n",
       "    <tr style=\"text-align: right;\">\n",
       "      <th></th>\n",
       "      <th>buying_high</th>\n",
       "      <th>buying_low</th>\n",
       "      <th>buying_med</th>\n",
       "      <th>buying_vhigh</th>\n",
       "      <th>maint_high</th>\n",
       "      <th>maint_low</th>\n",
       "      <th>maint_med</th>\n",
       "      <th>maint_vhigh</th>\n",
       "      <th>doors_2</th>\n",
       "      <th>doors_3</th>\n",
       "      <th>...</th>\n",
       "      <th>doors_5more</th>\n",
       "      <th>persons_2</th>\n",
       "      <th>persons_4</th>\n",
       "      <th>persons_more</th>\n",
       "      <th>lug_boot_big</th>\n",
       "      <th>lug_boot_med</th>\n",
       "      <th>lug_boot_small</th>\n",
       "      <th>safety_high</th>\n",
       "      <th>safety_low</th>\n",
       "      <th>safety_med</th>\n",
       "    </tr>\n",
       "  </thead>\n",
       "  <tbody>\n",
       "    <tr>\n",
       "      <th>1024</th>\n",
       "      <td>0</td>\n",
       "      <td>0</td>\n",
       "      <td>1</td>\n",
       "      <td>0</td>\n",
       "      <td>1</td>\n",
       "      <td>0</td>\n",
       "      <td>0</td>\n",
       "      <td>0</td>\n",
       "      <td>0</td>\n",
       "      <td>1</td>\n",
       "      <td>...</td>\n",
       "      <td>0</td>\n",
       "      <td>0</td>\n",
       "      <td>0</td>\n",
       "      <td>1</td>\n",
       "      <td>1</td>\n",
       "      <td>0</td>\n",
       "      <td>0</td>\n",
       "      <td>0</td>\n",
       "      <td>0</td>\n",
       "      <td>1</td>\n",
       "    </tr>\n",
       "    <tr>\n",
       "      <th>709</th>\n",
       "      <td>1</td>\n",
       "      <td>0</td>\n",
       "      <td>0</td>\n",
       "      <td>0</td>\n",
       "      <td>0</td>\n",
       "      <td>0</td>\n",
       "      <td>1</td>\n",
       "      <td>0</td>\n",
       "      <td>0</td>\n",
       "      <td>0</td>\n",
       "      <td>...</td>\n",
       "      <td>0</td>\n",
       "      <td>1</td>\n",
       "      <td>0</td>\n",
       "      <td>0</td>\n",
       "      <td>1</td>\n",
       "      <td>0</td>\n",
       "      <td>0</td>\n",
       "      <td>0</td>\n",
       "      <td>0</td>\n",
       "      <td>1</td>\n",
       "    </tr>\n",
       "    <tr>\n",
       "      <th>1595</th>\n",
       "      <td>0</td>\n",
       "      <td>1</td>\n",
       "      <td>0</td>\n",
       "      <td>0</td>\n",
       "      <td>0</td>\n",
       "      <td>0</td>\n",
       "      <td>1</td>\n",
       "      <td>0</td>\n",
       "      <td>0</td>\n",
       "      <td>0</td>\n",
       "      <td>...</td>\n",
       "      <td>1</td>\n",
       "      <td>1</td>\n",
       "      <td>0</td>\n",
       "      <td>0</td>\n",
       "      <td>0</td>\n",
       "      <td>0</td>\n",
       "      <td>1</td>\n",
       "      <td>1</td>\n",
       "      <td>0</td>\n",
       "      <td>0</td>\n",
       "    </tr>\n",
       "    <tr>\n",
       "      <th>1554</th>\n",
       "      <td>0</td>\n",
       "      <td>1</td>\n",
       "      <td>0</td>\n",
       "      <td>0</td>\n",
       "      <td>0</td>\n",
       "      <td>0</td>\n",
       "      <td>1</td>\n",
       "      <td>0</td>\n",
       "      <td>0</td>\n",
       "      <td>1</td>\n",
       "      <td>...</td>\n",
       "      <td>0</td>\n",
       "      <td>0</td>\n",
       "      <td>1</td>\n",
       "      <td>0</td>\n",
       "      <td>1</td>\n",
       "      <td>0</td>\n",
       "      <td>0</td>\n",
       "      <td>0</td>\n",
       "      <td>1</td>\n",
       "      <td>0</td>\n",
       "    </tr>\n",
       "    <tr>\n",
       "      <th>779</th>\n",
       "      <td>1</td>\n",
       "      <td>0</td>\n",
       "      <td>0</td>\n",
       "      <td>0</td>\n",
       "      <td>0</td>\n",
       "      <td>1</td>\n",
       "      <td>0</td>\n",
       "      <td>0</td>\n",
       "      <td>1</td>\n",
       "      <td>0</td>\n",
       "      <td>...</td>\n",
       "      <td>0</td>\n",
       "      <td>0</td>\n",
       "      <td>0</td>\n",
       "      <td>1</td>\n",
       "      <td>0</td>\n",
       "      <td>1</td>\n",
       "      <td>0</td>\n",
       "      <td>1</td>\n",
       "      <td>0</td>\n",
       "      <td>0</td>\n",
       "    </tr>\n",
       "    <tr>\n",
       "      <th>30</th>\n",
       "      <td>0</td>\n",
       "      <td>0</td>\n",
       "      <td>0</td>\n",
       "      <td>1</td>\n",
       "      <td>0</td>\n",
       "      <td>0</td>\n",
       "      <td>0</td>\n",
       "      <td>1</td>\n",
       "      <td>0</td>\n",
       "      <td>1</td>\n",
       "      <td>...</td>\n",
       "      <td>0</td>\n",
       "      <td>1</td>\n",
       "      <td>0</td>\n",
       "      <td>0</td>\n",
       "      <td>0</td>\n",
       "      <td>1</td>\n",
       "      <td>0</td>\n",
       "      <td>0</td>\n",
       "      <td>1</td>\n",
       "      <td>0</td>\n",
       "    </tr>\n",
       "    <tr>\n",
       "      <th>1267</th>\n",
       "      <td>0</td>\n",
       "      <td>0</td>\n",
       "      <td>1</td>\n",
       "      <td>0</td>\n",
       "      <td>0</td>\n",
       "      <td>1</td>\n",
       "      <td>0</td>\n",
       "      <td>0</td>\n",
       "      <td>0</td>\n",
       "      <td>0</td>\n",
       "      <td>...</td>\n",
       "      <td>0</td>\n",
       "      <td>0</td>\n",
       "      <td>0</td>\n",
       "      <td>1</td>\n",
       "      <td>1</td>\n",
       "      <td>0</td>\n",
       "      <td>0</td>\n",
       "      <td>0</td>\n",
       "      <td>0</td>\n",
       "      <td>1</td>\n",
       "    </tr>\n",
       "    <tr>\n",
       "      <th>768</th>\n",
       "      <td>1</td>\n",
       "      <td>0</td>\n",
       "      <td>0</td>\n",
       "      <td>0</td>\n",
       "      <td>0</td>\n",
       "      <td>1</td>\n",
       "      <td>0</td>\n",
       "      <td>0</td>\n",
       "      <td>1</td>\n",
       "      <td>0</td>\n",
       "      <td>...</td>\n",
       "      <td>0</td>\n",
       "      <td>0</td>\n",
       "      <td>1</td>\n",
       "      <td>0</td>\n",
       "      <td>0</td>\n",
       "      <td>1</td>\n",
       "      <td>0</td>\n",
       "      <td>0</td>\n",
       "      <td>1</td>\n",
       "      <td>0</td>\n",
       "    </tr>\n",
       "    <tr>\n",
       "      <th>1675</th>\n",
       "      <td>0</td>\n",
       "      <td>1</td>\n",
       "      <td>0</td>\n",
       "      <td>0</td>\n",
       "      <td>0</td>\n",
       "      <td>1</td>\n",
       "      <td>0</td>\n",
       "      <td>0</td>\n",
       "      <td>0</td>\n",
       "      <td>0</td>\n",
       "      <td>...</td>\n",
       "      <td>0</td>\n",
       "      <td>1</td>\n",
       "      <td>0</td>\n",
       "      <td>0</td>\n",
       "      <td>0</td>\n",
       "      <td>0</td>\n",
       "      <td>1</td>\n",
       "      <td>0</td>\n",
       "      <td>0</td>\n",
       "      <td>1</td>\n",
       "    </tr>\n",
       "    <tr>\n",
       "      <th>588</th>\n",
       "      <td>1</td>\n",
       "      <td>0</td>\n",
       "      <td>0</td>\n",
       "      <td>0</td>\n",
       "      <td>1</td>\n",
       "      <td>0</td>\n",
       "      <td>0</td>\n",
       "      <td>0</td>\n",
       "      <td>0</td>\n",
       "      <td>1</td>\n",
       "      <td>...</td>\n",
       "      <td>0</td>\n",
       "      <td>0</td>\n",
       "      <td>0</td>\n",
       "      <td>1</td>\n",
       "      <td>0</td>\n",
       "      <td>1</td>\n",
       "      <td>0</td>\n",
       "      <td>0</td>\n",
       "      <td>1</td>\n",
       "      <td>0</td>\n",
       "    </tr>\n",
       "  </tbody>\n",
       "</table>\n",
       "<p>10 rows × 21 columns</p>\n",
       "</div>"
      ],
      "text/plain": [
       "      buying_high  buying_low  buying_med  buying_vhigh  maint_high  \\\n",
       "1024            0           0           1             0           1   \n",
       "709             1           0           0             0           0   \n",
       "1595            0           1           0             0           0   \n",
       "1554            0           1           0             0           0   \n",
       "779             1           0           0             0           0   \n",
       "30              0           0           0             1           0   \n",
       "1267            0           0           1             0           0   \n",
       "768             1           0           0             0           0   \n",
       "1675            0           1           0             0           0   \n",
       "588             1           0           0             0           1   \n",
       "\n",
       "      maint_low  maint_med  maint_vhigh  doors_2  doors_3  ...  doors_5more  \\\n",
       "1024          0          0            0        0        1  ...            0   \n",
       "709           0          1            0        0        0  ...            0   \n",
       "1595          0          1            0        0        0  ...            1   \n",
       "1554          0          1            0        0        1  ...            0   \n",
       "779           1          0            0        1        0  ...            0   \n",
       "30            0          0            1        0        1  ...            0   \n",
       "1267          1          0            0        0        0  ...            0   \n",
       "768           1          0            0        1        0  ...            0   \n",
       "1675          1          0            0        0        0  ...            0   \n",
       "588           0          0            0        0        1  ...            0   \n",
       "\n",
       "      persons_2  persons_4  persons_more  lug_boot_big  lug_boot_med  \\\n",
       "1024          0          0             1             1             0   \n",
       "709           1          0             0             1             0   \n",
       "1595          1          0             0             0             0   \n",
       "1554          0          1             0             1             0   \n",
       "779           0          0             1             0             1   \n",
       "30            1          0             0             0             1   \n",
       "1267          0          0             1             1             0   \n",
       "768           0          1             0             0             1   \n",
       "1675          1          0             0             0             0   \n",
       "588           0          0             1             0             1   \n",
       "\n",
       "      lug_boot_small  safety_high  safety_low  safety_med  \n",
       "1024               0            0           0           1  \n",
       "709                0            0           0           1  \n",
       "1595               1            1           0           0  \n",
       "1554               0            0           1           0  \n",
       "779                0            1           0           0  \n",
       "30                 0            0           1           0  \n",
       "1267               0            0           0           1  \n",
       "768                0            0           1           0  \n",
       "1675               1            0           0           1  \n",
       "588                0            0           1           0  \n",
       "\n",
       "[10 rows x 21 columns]"
      ]
     },
     "execution_count": 122,
     "metadata": {},
     "output_type": "execute_result"
    }
   ],
   "source": [
    "X_train_encoded.head(10)"
   ]
  },
  {
   "cell_type": "code",
   "execution_count": 123,
   "metadata": {
    "scrolled": true
   },
   "outputs": [
    {
     "data": {
      "text/html": [
       "<div>\n",
       "<style scoped>\n",
       "    .dataframe tbody tr th:only-of-type {\n",
       "        vertical-align: middle;\n",
       "    }\n",
       "\n",
       "    .dataframe tbody tr th {\n",
       "        vertical-align: top;\n",
       "    }\n",
       "\n",
       "    .dataframe thead th {\n",
       "        text-align: right;\n",
       "    }\n",
       "</style>\n",
       "<table border=\"1\" class=\"dataframe\">\n",
       "  <thead>\n",
       "    <tr style=\"text-align: right;\">\n",
       "      <th></th>\n",
       "      <th>buying_high</th>\n",
       "      <th>buying_low</th>\n",
       "      <th>buying_med</th>\n",
       "      <th>buying_vhigh</th>\n",
       "      <th>maint_high</th>\n",
       "      <th>maint_low</th>\n",
       "      <th>maint_med</th>\n",
       "      <th>maint_vhigh</th>\n",
       "      <th>doors_2</th>\n",
       "      <th>doors_3</th>\n",
       "      <th>...</th>\n",
       "      <th>doors_5more</th>\n",
       "      <th>persons_2</th>\n",
       "      <th>persons_4</th>\n",
       "      <th>persons_more</th>\n",
       "      <th>lug_boot_big</th>\n",
       "      <th>lug_boot_med</th>\n",
       "      <th>lug_boot_small</th>\n",
       "      <th>safety_high</th>\n",
       "      <th>safety_low</th>\n",
       "      <th>safety_med</th>\n",
       "    </tr>\n",
       "  </thead>\n",
       "  <tbody>\n",
       "    <tr>\n",
       "      <th>1307</th>\n",
       "      <td>0</td>\n",
       "      <td>1</td>\n",
       "      <td>0</td>\n",
       "      <td>0</td>\n",
       "      <td>0</td>\n",
       "      <td>0</td>\n",
       "      <td>0</td>\n",
       "      <td>1</td>\n",
       "      <td>1</td>\n",
       "      <td>0</td>\n",
       "      <td>...</td>\n",
       "      <td>0</td>\n",
       "      <td>0</td>\n",
       "      <td>1</td>\n",
       "      <td>0</td>\n",
       "      <td>0</td>\n",
       "      <td>0</td>\n",
       "      <td>1</td>\n",
       "      <td>1</td>\n",
       "      <td>0</td>\n",
       "      <td>0</td>\n",
       "    </tr>\n",
       "    <tr>\n",
       "      <th>1658</th>\n",
       "      <td>0</td>\n",
       "      <td>1</td>\n",
       "      <td>0</td>\n",
       "      <td>0</td>\n",
       "      <td>0</td>\n",
       "      <td>1</td>\n",
       "      <td>0</td>\n",
       "      <td>0</td>\n",
       "      <td>0</td>\n",
       "      <td>1</td>\n",
       "      <td>...</td>\n",
       "      <td>0</td>\n",
       "      <td>0</td>\n",
       "      <td>1</td>\n",
       "      <td>0</td>\n",
       "      <td>0</td>\n",
       "      <td>0</td>\n",
       "      <td>1</td>\n",
       "      <td>1</td>\n",
       "      <td>0</td>\n",
       "      <td>0</td>\n",
       "    </tr>\n",
       "    <tr>\n",
       "      <th>1529</th>\n",
       "      <td>0</td>\n",
       "      <td>1</td>\n",
       "      <td>0</td>\n",
       "      <td>0</td>\n",
       "      <td>0</td>\n",
       "      <td>0</td>\n",
       "      <td>1</td>\n",
       "      <td>0</td>\n",
       "      <td>1</td>\n",
       "      <td>0</td>\n",
       "      <td>...</td>\n",
       "      <td>0</td>\n",
       "      <td>0</td>\n",
       "      <td>1</td>\n",
       "      <td>0</td>\n",
       "      <td>1</td>\n",
       "      <td>0</td>\n",
       "      <td>0</td>\n",
       "      <td>1</td>\n",
       "      <td>0</td>\n",
       "      <td>0</td>\n",
       "    </tr>\n",
       "    <tr>\n",
       "      <th>52</th>\n",
       "      <td>0</td>\n",
       "      <td>0</td>\n",
       "      <td>0</td>\n",
       "      <td>1</td>\n",
       "      <td>0</td>\n",
       "      <td>0</td>\n",
       "      <td>0</td>\n",
       "      <td>1</td>\n",
       "      <td>0</td>\n",
       "      <td>1</td>\n",
       "      <td>...</td>\n",
       "      <td>0</td>\n",
       "      <td>0</td>\n",
       "      <td>0</td>\n",
       "      <td>1</td>\n",
       "      <td>1</td>\n",
       "      <td>0</td>\n",
       "      <td>0</td>\n",
       "      <td>0</td>\n",
       "      <td>0</td>\n",
       "      <td>1</td>\n",
       "    </tr>\n",
       "    <tr>\n",
       "      <th>97</th>\n",
       "      <td>0</td>\n",
       "      <td>0</td>\n",
       "      <td>0</td>\n",
       "      <td>1</td>\n",
       "      <td>0</td>\n",
       "      <td>0</td>\n",
       "      <td>0</td>\n",
       "      <td>1</td>\n",
       "      <td>0</td>\n",
       "      <td>0</td>\n",
       "      <td>...</td>\n",
       "      <td>1</td>\n",
       "      <td>0</td>\n",
       "      <td>1</td>\n",
       "      <td>0</td>\n",
       "      <td>1</td>\n",
       "      <td>0</td>\n",
       "      <td>0</td>\n",
       "      <td>0</td>\n",
       "      <td>0</td>\n",
       "      <td>1</td>\n",
       "    </tr>\n",
       "  </tbody>\n",
       "</table>\n",
       "<p>5 rows × 21 columns</p>\n",
       "</div>"
      ],
      "text/plain": [
       "      buying_high  buying_low  buying_med  buying_vhigh  maint_high  \\\n",
       "1307            0           1           0             0           0   \n",
       "1658            0           1           0             0           0   \n",
       "1529            0           1           0             0           0   \n",
       "52              0           0           0             1           0   \n",
       "97              0           0           0             1           0   \n",
       "\n",
       "      maint_low  maint_med  maint_vhigh  doors_2  doors_3  ...  doors_5more  \\\n",
       "1307          0          0            1        1        0  ...            0   \n",
       "1658          1          0            0        0        1  ...            0   \n",
       "1529          0          1            0        1        0  ...            0   \n",
       "52            0          0            1        0        1  ...            0   \n",
       "97            0          0            1        0        0  ...            1   \n",
       "\n",
       "      persons_2  persons_4  persons_more  lug_boot_big  lug_boot_med  \\\n",
       "1307          0          1             0             0             0   \n",
       "1658          0          1             0             0             0   \n",
       "1529          0          1             0             1             0   \n",
       "52            0          0             1             1             0   \n",
       "97            0          1             0             1             0   \n",
       "\n",
       "      lug_boot_small  safety_high  safety_low  safety_med  \n",
       "1307               1            1           0           0  \n",
       "1658               1            1           0           0  \n",
       "1529               0            1           0           0  \n",
       "52                 0            0           0           1  \n",
       "97                 0            0           0           1  \n",
       "\n",
       "[5 rows x 21 columns]"
      ]
     },
     "execution_count": 123,
     "metadata": {},
     "output_type": "execute_result"
    }
   ],
   "source": [
    "X_valid_encoded.head()"
   ]
  },
  {
   "cell_type": "code",
   "execution_count": 124,
   "metadata": {
    "scrolled": true
   },
   "outputs": [
    {
     "data": {
      "text/html": [
       "<div>\n",
       "<style scoped>\n",
       "    .dataframe tbody tr th:only-of-type {\n",
       "        vertical-align: middle;\n",
       "    }\n",
       "\n",
       "    .dataframe tbody tr th {\n",
       "        vertical-align: top;\n",
       "    }\n",
       "\n",
       "    .dataframe thead th {\n",
       "        text-align: right;\n",
       "    }\n",
       "</style>\n",
       "<table border=\"1\" class=\"dataframe\">\n",
       "  <thead>\n",
       "    <tr style=\"text-align: right;\">\n",
       "      <th></th>\n",
       "      <th>buying_high</th>\n",
       "      <th>buying_low</th>\n",
       "      <th>buying_med</th>\n",
       "      <th>buying_vhigh</th>\n",
       "      <th>maint_high</th>\n",
       "      <th>maint_low</th>\n",
       "      <th>maint_med</th>\n",
       "      <th>maint_vhigh</th>\n",
       "      <th>doors_2</th>\n",
       "      <th>doors_3</th>\n",
       "      <th>...</th>\n",
       "      <th>doors_5more</th>\n",
       "      <th>persons_2</th>\n",
       "      <th>persons_4</th>\n",
       "      <th>persons_more</th>\n",
       "      <th>lug_boot_big</th>\n",
       "      <th>lug_boot_med</th>\n",
       "      <th>lug_boot_small</th>\n",
       "      <th>safety_high</th>\n",
       "      <th>safety_low</th>\n",
       "      <th>safety_med</th>\n",
       "    </tr>\n",
       "  </thead>\n",
       "  <tbody>\n",
       "    <tr>\n",
       "      <th>667</th>\n",
       "      <td>1</td>\n",
       "      <td>0</td>\n",
       "      <td>0</td>\n",
       "      <td>0</td>\n",
       "      <td>0</td>\n",
       "      <td>0</td>\n",
       "      <td>1</td>\n",
       "      <td>0</td>\n",
       "      <td>1</td>\n",
       "      <td>0</td>\n",
       "      <td>...</td>\n",
       "      <td>0</td>\n",
       "      <td>0</td>\n",
       "      <td>0</td>\n",
       "      <td>1</td>\n",
       "      <td>0</td>\n",
       "      <td>0</td>\n",
       "      <td>1</td>\n",
       "      <td>0</td>\n",
       "      <td>0</td>\n",
       "      <td>1</td>\n",
       "    </tr>\n",
       "    <tr>\n",
       "      <th>912</th>\n",
       "      <td>0</td>\n",
       "      <td>0</td>\n",
       "      <td>1</td>\n",
       "      <td>0</td>\n",
       "      <td>0</td>\n",
       "      <td>0</td>\n",
       "      <td>0</td>\n",
       "      <td>1</td>\n",
       "      <td>0</td>\n",
       "      <td>1</td>\n",
       "      <td>...</td>\n",
       "      <td>0</td>\n",
       "      <td>0</td>\n",
       "      <td>0</td>\n",
       "      <td>1</td>\n",
       "      <td>0</td>\n",
       "      <td>1</td>\n",
       "      <td>0</td>\n",
       "      <td>0</td>\n",
       "      <td>1</td>\n",
       "      <td>0</td>\n",
       "    </tr>\n",
       "    <tr>\n",
       "      <th>480</th>\n",
       "      <td>1</td>\n",
       "      <td>0</td>\n",
       "      <td>0</td>\n",
       "      <td>0</td>\n",
       "      <td>0</td>\n",
       "      <td>0</td>\n",
       "      <td>0</td>\n",
       "      <td>1</td>\n",
       "      <td>0</td>\n",
       "      <td>1</td>\n",
       "      <td>...</td>\n",
       "      <td>0</td>\n",
       "      <td>0</td>\n",
       "      <td>0</td>\n",
       "      <td>1</td>\n",
       "      <td>0</td>\n",
       "      <td>1</td>\n",
       "      <td>0</td>\n",
       "      <td>0</td>\n",
       "      <td>1</td>\n",
       "      <td>0</td>\n",
       "    </tr>\n",
       "    <tr>\n",
       "      <th>823</th>\n",
       "      <td>1</td>\n",
       "      <td>0</td>\n",
       "      <td>0</td>\n",
       "      <td>0</td>\n",
       "      <td>0</td>\n",
       "      <td>1</td>\n",
       "      <td>0</td>\n",
       "      <td>0</td>\n",
       "      <td>0</td>\n",
       "      <td>0</td>\n",
       "      <td>...</td>\n",
       "      <td>0</td>\n",
       "      <td>0</td>\n",
       "      <td>1</td>\n",
       "      <td>0</td>\n",
       "      <td>0</td>\n",
       "      <td>1</td>\n",
       "      <td>0</td>\n",
       "      <td>0</td>\n",
       "      <td>0</td>\n",
       "      <td>1</td>\n",
       "    </tr>\n",
       "    <tr>\n",
       "      <th>348</th>\n",
       "      <td>0</td>\n",
       "      <td>0</td>\n",
       "      <td>0</td>\n",
       "      <td>1</td>\n",
       "      <td>0</td>\n",
       "      <td>1</td>\n",
       "      <td>0</td>\n",
       "      <td>0</td>\n",
       "      <td>1</td>\n",
       "      <td>0</td>\n",
       "      <td>...</td>\n",
       "      <td>0</td>\n",
       "      <td>0</td>\n",
       "      <td>0</td>\n",
       "      <td>1</td>\n",
       "      <td>1</td>\n",
       "      <td>0</td>\n",
       "      <td>0</td>\n",
       "      <td>0</td>\n",
       "      <td>1</td>\n",
       "      <td>0</td>\n",
       "    </tr>\n",
       "  </tbody>\n",
       "</table>\n",
       "<p>5 rows × 21 columns</p>\n",
       "</div>"
      ],
      "text/plain": [
       "     buying_high  buying_low  buying_med  buying_vhigh  maint_high  maint_low  \\\n",
       "667            1           0           0             0           0          0   \n",
       "912            0           0           1             0           0          0   \n",
       "480            1           0           0             0           0          0   \n",
       "823            1           0           0             0           0          1   \n",
       "348            0           0           0             1           0          1   \n",
       "\n",
       "     maint_med  maint_vhigh  doors_2  doors_3  ...  doors_5more  persons_2  \\\n",
       "667          1            0        1        0  ...            0          0   \n",
       "912          0            1        0        1  ...            0          0   \n",
       "480          0            1        0        1  ...            0          0   \n",
       "823          0            0        0        0  ...            0          0   \n",
       "348          0            0        1        0  ...            0          0   \n",
       "\n",
       "     persons_4  persons_more  lug_boot_big  lug_boot_med  lug_boot_small  \\\n",
       "667          0             1             0             0               1   \n",
       "912          0             1             0             1               0   \n",
       "480          0             1             0             1               0   \n",
       "823          1             0             0             1               0   \n",
       "348          0             1             1             0               0   \n",
       "\n",
       "     safety_high  safety_low  safety_med  \n",
       "667            0           0           1  \n",
       "912            0           1           0  \n",
       "480            0           1           0  \n",
       "823            0           0           1  \n",
       "348            0           1           0  \n",
       "\n",
       "[5 rows x 21 columns]"
      ]
     },
     "execution_count": 124,
     "metadata": {},
     "output_type": "execute_result"
    }
   ],
   "source": [
    "X_test_encoded.head()"
   ]
  },
  {
   "cell_type": "markdown",
   "metadata": {},
   "source": [
    "## Model neuronske mreze\n",
    "\n",
    "Nakon sto smo izvrsili preprocesiranje podataka, mozemo konstruisati model nase neuronske mreze."
   ]
  },
  {
   "cell_type": "code",
   "execution_count": 125,
   "metadata": {
    "scrolled": false
   },
   "outputs": [
    {
     "name": "stdout",
     "output_type": "stream",
     "text": [
      "Epoch 1/50\n",
      "44/44 [==============================] - 1s 6ms/step - loss: 0.7225 - accuracy: 0.7098 - val_loss: 0.5274 - val_accuracy: 0.7341\n",
      "Epoch 2/50\n",
      "44/44 [==============================] - 0s 1ms/step - loss: 0.4501 - accuracy: 0.8343 - val_loss: 0.4252 - val_accuracy: 0.8555\n",
      "Epoch 3/50\n",
      "44/44 [==============================] - 0s 1ms/step - loss: 0.3791 - accuracy: 0.8560 - val_loss: 0.3785 - val_accuracy: 0.8382\n",
      "Epoch 4/50\n",
      "44/44 [==============================] - 0s 1ms/step - loss: 0.3362 - accuracy: 0.8683 - val_loss: 0.3428 - val_accuracy: 0.8786\n",
      "Epoch 5/50\n",
      "44/44 [==============================] - 0s 1ms/step - loss: 0.3080 - accuracy: 0.8792 - val_loss: 0.3216 - val_accuracy: 0.8844\n",
      "Epoch 6/50\n",
      "44/44 [==============================] - 0s 1ms/step - loss: 0.2840 - accuracy: 0.8813 - val_loss: 0.3039 - val_accuracy: 0.8902\n",
      "Epoch 7/50\n",
      "44/44 [==============================] - 0s 2ms/step - loss: 0.2653 - accuracy: 0.8886 - val_loss: 0.2904 - val_accuracy: 0.8960\n",
      "Epoch 8/50\n",
      "44/44 [==============================] - 0s 2ms/step - loss: 0.2518 - accuracy: 0.9059 - val_loss: 0.2804 - val_accuracy: 0.8960\n",
      "Epoch 9/50\n",
      "44/44 [==============================] - 0s 2ms/step - loss: 0.2398 - accuracy: 0.9023 - val_loss: 0.2824 - val_accuracy: 0.8844\n",
      "Epoch 10/50\n",
      "44/44 [==============================] - 0s 2ms/step - loss: 0.2267 - accuracy: 0.9132 - val_loss: 0.2713 - val_accuracy: 0.9133\n",
      "Epoch 11/50\n",
      "44/44 [==============================] - 0s 2ms/step - loss: 0.2191 - accuracy: 0.9161 - val_loss: 0.2552 - val_accuracy: 0.9017\n",
      "Epoch 12/50\n",
      "44/44 [==============================] - 0s 2ms/step - loss: 0.2118 - accuracy: 0.9161 - val_loss: 0.2432 - val_accuracy: 0.9133\n",
      "Epoch 13/50\n",
      "44/44 [==============================] - 0s 1ms/step - loss: 0.2049 - accuracy: 0.9182 - val_loss: 0.2368 - val_accuracy: 0.8960\n",
      "Epoch 14/50\n",
      "44/44 [==============================] - 0s 1ms/step - loss: 0.2006 - accuracy: 0.9139 - val_loss: 0.2355 - val_accuracy: 0.9133\n",
      "Epoch 15/50\n",
      "44/44 [==============================] - 0s 1ms/step - loss: 0.1961 - accuracy: 0.9190 - val_loss: 0.2240 - val_accuracy: 0.9017\n",
      "Epoch 16/50\n",
      "44/44 [==============================] - 0s 1ms/step - loss: 0.1917 - accuracy: 0.9255 - val_loss: 0.2285 - val_accuracy: 0.8960\n",
      "Epoch 17/50\n",
      "44/44 [==============================] - 0s 1ms/step - loss: 0.1876 - accuracy: 0.9132 - val_loss: 0.2225 - val_accuracy: 0.9133\n",
      "Epoch 18/50\n",
      "44/44 [==============================] - 0s 1ms/step - loss: 0.1843 - accuracy: 0.9204 - val_loss: 0.2201 - val_accuracy: 0.9191\n",
      "Epoch 19/50\n",
      "44/44 [==============================] - 0s 1ms/step - loss: 0.1821 - accuracy: 0.9284 - val_loss: 0.2213 - val_accuracy: 0.9075\n",
      "Epoch 20/50\n",
      "44/44 [==============================] - 0s 1ms/step - loss: 0.1786 - accuracy: 0.9291 - val_loss: 0.2144 - val_accuracy: 0.9075\n",
      "Epoch 21/50\n",
      "44/44 [==============================] - 0s 1ms/step - loss: 0.1767 - accuracy: 0.9291 - val_loss: 0.2207 - val_accuracy: 0.8960\n",
      "Epoch 22/50\n",
      "44/44 [==============================] - 0s 2ms/step - loss: 0.1732 - accuracy: 0.9291 - val_loss: 0.2142 - val_accuracy: 0.9017\n",
      "Epoch 23/50\n",
      "44/44 [==============================] - 0s 1ms/step - loss: 0.1708 - accuracy: 0.9269 - val_loss: 0.2121 - val_accuracy: 0.9075\n",
      "Epoch 24/50\n",
      "44/44 [==============================] - 0s 1ms/step - loss: 0.1711 - accuracy: 0.9233 - val_loss: 0.2056 - val_accuracy: 0.9075\n",
      "Epoch 25/50\n",
      "44/44 [==============================] - 0s 1ms/step - loss: 0.1675 - accuracy: 0.9298 - val_loss: 0.2017 - val_accuracy: 0.9191\n",
      "Epoch 26/50\n",
      "44/44 [==============================] - 0s 2ms/step - loss: 0.1686 - accuracy: 0.9276 - val_loss: 0.2025 - val_accuracy: 0.9249\n",
      "Epoch 27/50\n",
      "44/44 [==============================] - 0s 1ms/step - loss: 0.1650 - accuracy: 0.9334 - val_loss: 0.2041 - val_accuracy: 0.9133\n",
      "Epoch 28/50\n",
      "44/44 [==============================] - 0s 2ms/step - loss: 0.1662 - accuracy: 0.9298 - val_loss: 0.2006 - val_accuracy: 0.9017\n",
      "Epoch 29/50\n",
      "44/44 [==============================] - 0s 1ms/step - loss: 0.1635 - accuracy: 0.9320 - val_loss: 0.1948 - val_accuracy: 0.9133\n",
      "Epoch 30/50\n",
      "44/44 [==============================] - 0s 1ms/step - loss: 0.1620 - accuracy: 0.9320 - val_loss: 0.2039 - val_accuracy: 0.9364\n",
      "Epoch 31/50\n",
      "44/44 [==============================] - 0s 2ms/step - loss: 0.1616 - accuracy: 0.9305 - val_loss: 0.2020 - val_accuracy: 0.9133\n",
      "Epoch 32/50\n",
      "44/44 [==============================] - 0s 1ms/step - loss: 0.1604 - accuracy: 0.9320 - val_loss: 0.1940 - val_accuracy: 0.9364\n",
      "Epoch 33/50\n",
      "44/44 [==============================] - 0s 1ms/step - loss: 0.1579 - accuracy: 0.9349 - val_loss: 0.1967 - val_accuracy: 0.9191\n",
      "Epoch 34/50\n",
      "44/44 [==============================] - 0s 2ms/step - loss: 0.1591 - accuracy: 0.9349 - val_loss: 0.1991 - val_accuracy: 0.9133\n",
      "Epoch 35/50\n",
      "44/44 [==============================] - 0s 1ms/step - loss: 0.1591 - accuracy: 0.9370 - val_loss: 0.1916 - val_accuracy: 0.9249\n",
      "Epoch 36/50\n",
      "44/44 [==============================] - 0s 1ms/step - loss: 0.1581 - accuracy: 0.9298 - val_loss: 0.1897 - val_accuracy: 0.9191\n",
      "Epoch 37/50\n",
      "44/44 [==============================] - 0s 2ms/step - loss: 0.1561 - accuracy: 0.9342 - val_loss: 0.1891 - val_accuracy: 0.9249\n",
      "Epoch 38/50\n",
      "44/44 [==============================] - 0s 1ms/step - loss: 0.1530 - accuracy: 0.9334 - val_loss: 0.2016 - val_accuracy: 0.9249\n",
      "Epoch 39/50\n",
      "44/44 [==============================] - 0s 1ms/step - loss: 0.1559 - accuracy: 0.9370 - val_loss: 0.1983 - val_accuracy: 0.9306\n",
      "Epoch 40/50\n",
      "44/44 [==============================] - 0s 1ms/step - loss: 0.1542 - accuracy: 0.9392 - val_loss: 0.1907 - val_accuracy: 0.9191\n",
      "Epoch 41/50\n",
      "44/44 [==============================] - 0s 1ms/step - loss: 0.1520 - accuracy: 0.9349 - val_loss: 0.1873 - val_accuracy: 0.9191\n",
      "Epoch 42/50\n",
      "44/44 [==============================] - 0s 1ms/step - loss: 0.1530 - accuracy: 0.9370 - val_loss: 0.1967 - val_accuracy: 0.9249\n",
      "Epoch 43/50\n",
      "44/44 [==============================] - 0s 1ms/step - loss: 0.1512 - accuracy: 0.9334 - val_loss: 0.1872 - val_accuracy: 0.9191\n",
      "Epoch 44/50\n",
      "44/44 [==============================] - 0s 1ms/step - loss: 0.1506 - accuracy: 0.9392 - val_loss: 0.1894 - val_accuracy: 0.9306\n",
      "Epoch 45/50\n",
      "44/44 [==============================] - 0s 1ms/step - loss: 0.1522 - accuracy: 0.9334 - val_loss: 0.1881 - val_accuracy: 0.9191\n",
      "Epoch 46/50\n",
      "44/44 [==============================] - 0s 1ms/step - loss: 0.1519 - accuracy: 0.9342 - val_loss: 0.2006 - val_accuracy: 0.9306\n",
      "Epoch 47/50\n",
      "44/44 [==============================] - 0s 1ms/step - loss: 0.1499 - accuracy: 0.9349 - val_loss: 0.1860 - val_accuracy: 0.9306\n",
      "Epoch 48/50\n",
      "44/44 [==============================] - 0s 2ms/step - loss: 0.1494 - accuracy: 0.9327 - val_loss: 0.2028 - val_accuracy: 0.9133\n",
      "Epoch 49/50\n",
      "44/44 [==============================] - 0s 1ms/step - loss: 0.1473 - accuracy: 0.9407 - val_loss: 0.2134 - val_accuracy: 0.9249\n",
      "Epoch 50/50\n",
      "44/44 [==============================] - 0s 2ms/step - loss: 0.1517 - accuracy: 0.9363 - val_loss: 0.1861 - val_accuracy: 0.9191\n"
     ]
    }
   ],
   "source": [
    "tf.random.set_seed(0)\n",
    "\n",
    "model=tf.keras.models.Sequential(layers=[\n",
    "      \n",
    "      tf.keras.layers.Dense(21, input_shape=(X_train_encoded.shape[1],)),\n",
    "      tf.keras.layers.Dense(4,activation=\"softmax\")\n",
    "])\n",
    "\n",
    "model.compile(loss=tf.keras.losses.CategoricalCrossentropy(),\n",
    "                 optimizer=tf.keras.optimizers.SGD(0.1), \n",
    "                 metrics=[\"accuracy\"])\n",
    "\n",
    "proces = model.fit(X_train_encoded,y_train_encoded,epochs=50, validation_data=(X_valid_encoded, y_valid_encoded))"
   ]
  },
  {
   "cell_type": "code",
   "execution_count": 126,
   "metadata": {},
   "outputs": [
    {
     "name": "stdout",
     "output_type": "stream",
     "text": [
      "Model: \"sequential_2\"\n",
      "_________________________________________________________________\n",
      "Layer (type)                 Output Shape              Param #   \n",
      "=================================================================\n",
      "dense_4 (Dense)              (None, 21)                462       \n",
      "_________________________________________________________________\n",
      "dense_5 (Dense)              (None, 4)                 88        \n",
      "=================================================================\n",
      "Total params: 550\n",
      "Trainable params: 550\n",
      "Non-trainable params: 0\n",
      "_________________________________________________________________\n"
     ]
    }
   ],
   "source": [
    "model.summary()"
   ]
  },
  {
   "cell_type": "code",
   "execution_count": 127,
   "metadata": {},
   "outputs": [
    {
     "data": {
      "image/png": "[encoded data removed]",
      "text/plain": [
       "<Figure size 432x288 with 1 Axes>"
      ]
     },
     "metadata": {},
     "output_type": "display_data"
    }
   ],
   "source": [
    "plt.plot(proces.history['loss'])\n",
    "plt.plot(proces.history['val_loss'])\n",
    "plt.title('model_loss')\n",
    "plt.ylabel('Loss')\n",
    "plt.xlabel('epoch')\n",
    "plt.legend(['Train', 'Cross-Validation'], loc='upper left')\n",
    "plt.show()"
   ]
  },
  {
   "cell_type": "code",
   "execution_count": 128,
   "metadata": {},
   "outputs": [
    {
     "data": {
      "image/png": "[encoded data removed]",
      "text/plain": [
       "<Figure size 432x288 with 1 Axes>"
      ]
     },
     "metadata": {},
     "output_type": "display_data"
    }
   ],
   "source": [
    "plt.plot(proces.history['accuracy'])\n",
    "plt.plot(proces.history['val_accuracy'])\n",
    "plt.title('model_accuracy')\n",
    "plt.ylabel('accuracy')\n",
    "plt.xlabel('epoch')\n",
    "plt.legend(['Train', 'Cross-Validation'], loc='upper left')\n",
    "plt.show()"
   ]
  },
  {
   "cell_type": "code",
   "execution_count": 129,
   "metadata": {
    "scrolled": true
   },
   "outputs": [
    {
     "data": {
      "text/plain": [
       "<AxesSubplot:xlabel='Epohe'>"
      ]
     },
     "execution_count": 129,
     "metadata": {},
     "output_type": "execute_result"
    },
    {
     "data": {
      "image/png": "[encoded data removed]",
      "text/plain": [
       "<Figure size 432x288 with 1 Axes>"
      ]
     },
     "metadata": {},
     "output_type": "display_data"
    }
   ],
   "source": [
    "pd.DataFrame(proces.history).plot(xlabel=\"Epohe\")"
   ]
  },
  {
   "cell_type": "code",
   "execution_count": 130,
   "metadata": {},
   "outputs": [
    {
     "name": "stdout",
     "output_type": "stream",
     "text": [
      "Train Split: \n",
      "44/44 [==============================] - 0s 882us/step - loss: 0.1437 - accuracy: 0.9385\n"
     ]
    },
    {
     "data": {
      "text/plain": [
       "'0.9384949207305908'"
      ]
     },
     "execution_count": 130,
     "metadata": {},
     "output_type": "execute_result"
    }
   ],
   "source": [
    "print('Train Split: ')\n",
    "loss, accuracy = model.evaluate(X_train_encoded, y_train_encoded, verbose=1)\n",
    "format(accuracy)"
   ]
  },
  {
   "cell_type": "code",
   "execution_count": 131,
   "metadata": {
    "scrolled": true
   },
   "outputs": [
    {
     "name": "stdout",
     "output_type": "stream",
     "text": [
      "Test Split: \n",
      "6/6 [==============================] - 0s 1ms/step - loss: 0.1372 - accuracy: 0.9538\n"
     ]
    },
    {
     "data": {
      "text/plain": [
       "'0.9537572264671326'"
      ]
     },
     "execution_count": 131,
     "metadata": {},
     "output_type": "execute_result"
    }
   ],
   "source": [
    "print('Test Split: ')\n",
    "loss, accuracy = model.evaluate(X_test_encoded, y_test_encoded, verbose=1)\n",
    "format(accuracy)"
   ]
  },
  {
   "cell_type": "code",
   "execution_count": 132,
   "metadata": {},
   "outputs": [
    {
     "name": "stdout",
     "output_type": "stream",
     "text": [
      "Evaluation Split: \n",
      "6/6 [==============================] - 0s 2ms/step - loss: 0.1861 - accuracy: 0.9191\n"
     ]
    },
    {
     "data": {
      "text/plain": [
       "'0.9190751314163208'"
      ]
     },
     "execution_count": 132,
     "metadata": {},
     "output_type": "execute_result"
    }
   ],
   "source": [
    "print('Evaluation Split: ')\n",
    "loss, accuracy = model.evaluate(X_valid_encoded, y_valid_encoded, verbose=1)\n",
    "format(accuracy)"
   ]
  },
  {
   "cell_type": "code",
   "execution_count": 133,
   "metadata": {
    "scrolled": true
   },
   "outputs": [
    {
     "name": "stdout",
     "output_type": "stream",
     "text": [
      "              precision    recall  f1-score   support\n",
      "\n",
      "         acc       0.83      0.97      0.90        31\n",
      "        good       0.75      0.50      0.60         6\n",
      "       unacc       1.00      0.97      0.98       126\n",
      "       vgood       0.91      1.00      0.95        10\n",
      "\n",
      "    accuracy                           0.95       173\n",
      "   macro avg       0.87      0.86      0.86       173\n",
      "weighted avg       0.96      0.95      0.95       173\n",
      "\n"
     ]
    }
   ],
   "source": [
    "import time\n",
    "from sklearn.metrics import classification_report\n",
    "izlaziString=[\"acc\",\"good\",\"unacc\",\"vgood\"];\n",
    "izlazi=[];\n",
    "pretpostavke=model.predict(X_test_encoded)\n",
    "#pretpostavke\n",
    "najboljiIzbor=np.argmax(pretpostavke,axis=-1);\n",
    "for i in range(0,len(najboljiIzbor)):\n",
    "    izlazi.append(izlaziString[najboljiIzbor[i]]);\n",
    "najboljiIzbor\n",
    "print(classification_report(y_test,izlazi));"
   ]
  },
  {
   "cell_type": "code",
   "execution_count": 134,
   "metadata": {},
   "outputs": [],
   "source": [
    "import matplotlib.pyplot as plt\n",
    "import seaborn as sns\n",
    "from sklearn.metrics import confusion_matrix"
   ]
  },
  {
   "cell_type": "markdown",
   "metadata": {},
   "source": [
    "## Matrica konfuzije"
   ]
  },
  {
   "cell_type": "code",
   "execution_count": 135,
   "metadata": {},
   "outputs": [
    {
     "data": {
      "text/plain": [
       "Text(0.5, 1.0, 'Confusion matrix')"
      ]
     },
     "execution_count": 135,
     "metadata": {},
     "output_type": "execute_result"
    },
    {
     "data": {
      "image/png": "[encoded data removed]",
      "text/plain": [
       "<Figure size 432x288 with 2 Axes>"
      ]
     },
     "metadata": {},
     "output_type": "display_data"
    }
   ],
   "source": [
    "ax=plt.subplot()\n",
    "predict_results = model.predict(X_test_encoded)\n",
    "\n",
    "predict_results = predict_results.argmax(axis=1)\n",
    "\n",
    "cm = confusion_matrix(y_test, izlazi)\n",
    "\n",
    "sns.heatmap(cm, annot=True, ax=ax)\n",
    "\n",
    "ax.set_xlabel('Predicted labels')\n",
    "ax.set_ylabel('True labels')\n",
    "ax.set_title('Confusion matrix')"
   ]
  },
  {
   "cell_type": "code",
   "execution_count": 136,
   "metadata": {},
   "outputs": [
    {
     "name": "stdout",
     "output_type": "stream",
     "text": [
      "+-------------+--------------+------------------+\n",
      "| Br instance | Pretpostavka | Stvarna vrednost |\n",
      "+-------------+--------------+------------------+\n",
      "|      9      |     good     |       acc        |\n",
      "|      29     |     acc      |      unacc       |\n",
      "|      67     |    vgood     |      unacc       |\n",
      "|     106     |     acc      |      unacc       |\n",
      "|     110     |     acc      |       good       |\n",
      "|     123     |     acc      |       good       |\n",
      "|     124     |     acc      |      unacc       |\n",
      "|     152     |     acc      |       good       |\n",
      "+-------------+--------------+------------------+\n",
      "4.624277456647398 % greske\n",
      "95.3757225433526 % tacnosti\n"
     ]
    }
   ],
   "source": [
    "from prettytable import PrettyTable\n",
    "t = PrettyTable(['Br instance', 'Pretpostavka', 'Stvarna vrednost'])\n",
    "\n",
    "cnt=0;\n",
    "for i in range(0,test_data.shape[0]):\n",
    "    if(izlazi[i]!=y_test.iloc[i]):\n",
    "      cnt = cnt+1;\n",
    "      t.add_row([i, izlazi[i], y_test.iloc[i]])\n",
    "print(t)\n",
    "err=1/(test_data.shape[0]/cnt)*100\n",
    "accuracy=100-err;\n",
    "print(err, \"% greske\")\n",
    "print(accuracy, \"% tacnosti\")"
   ]
  }
 ],
 "metadata": {
  "kernelspec": {
   "display_name": "Python 3",
   "language": "python",
   "name": "python3"
  },
  "language_info": {
   "codemirror_mode": {
    "name": "ipython",
    "version": 3
   },
   "file_extension": ".py",
   "mimetype": "text/x-python",
   "name": "python",
   "nbconvert_exporter": "python",
   "pygments_lexer": "ipython3",
   "version": "3.8.5"
  }
 },
 "nbformat": 4,
 "nbformat_minor": 4
}
